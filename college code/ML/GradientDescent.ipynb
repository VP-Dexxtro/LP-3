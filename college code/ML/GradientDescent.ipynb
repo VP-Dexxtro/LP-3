{
 "cells": [
  {
   "cell_type": "code",
   "execution_count": null,
   "id": "0c2f620f-e2cb-423c-a67f-a625cd38d6fa",
   "metadata": {},
   "outputs": [],
   "source": [
    "#Name --> Nikhil,  \n",
    "#Roll No --> 3434\n",
    "#Assignment 4"
   ]
  },
  {
   "cell_type": "code",
   "execution_count": null,
   "id": "95619558-b374-49d0-8250-182ad5347a94",
   "metadata": {},
   "outputs": [],
   "source": [
    "\"\"\" Problem Statement\n",
    "Implement Gradient Descent Algorithm to find the local minima of a function.\n",
    "For example, find the local minima of the function y=(x+3)² starting from the point x=2. \"\"\""
   ]
  },
  {
   "cell_type": "code",
   "execution_count": 1,
   "id": "6a768cd2-5e5f-42e5-8d1b-a8c6f2532801",
   "metadata": {},
   "outputs": [],
   "source": [
    "cur_x = 2\n",
    "rate = 0.01\n",
    "precision = 0.00001\n",
    "step_size = 1\n",
    "max_iters = 1000\n",
    "iters = 0\n",
    "df = lambda x : 2 * (x + 3)"
   ]
  },
  {
   "cell_type": "code",
   "execution_count": 2,
   "id": "f6cc51b7-6bc8-4903-9063-49e41d8f72bb",
   "metadata": {},
   "outputs": [
    {
     "name": "stdout",
     "output_type": "stream",
     "text": [
      "Local Minima Occurs at : -2.999511025067055\n"
     ]
    }
   ],
   "source": [
    "while step_size > precision and iters < max_iters:\n",
    "    prev_x = cur_x\n",
    "    cur_x -= rate * df(prev_x)\n",
    "    step_size = abs(prev_x - cur_x)\n",
    "    iters += 1\n",
    "print(\"Local Minima Occurs at :\",cur_x)"
   ]
  },
  {
   "cell_type": "code",
   "execution_count": null,
   "id": "ebcdeba3-a0c1-4224-81ef-d9e8424a4ca0",
   "metadata": {},
   "outputs": [],
   "source": []
  }
 ],
 "metadata": {
  "kernelspec": {
   "display_name": "Python 3 (ipykernel)",
   "language": "python",
   "name": "python3"
  },
  "language_info": {
   "codemirror_mode": {
    "name": "ipython",
    "version": 3
   },
   "file_extension": ".py",
   "mimetype": "text/x-python",
   "name": "python",
   "nbconvert_exporter": "python",
   "pygments_lexer": "ipython3",
   "version": "3.9.0"
  }
 },
 "nbformat": 4,
 "nbformat_minor": 5
}
